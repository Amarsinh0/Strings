{
  "nbformat": 4,
  "nbformat_minor": 0,
  "metadata": {
    "colab": {
      "provenance": [],
      "authorship_tag": "ABX9TyPYRHIRIGC+W3mF+qbIqJWF",
      "include_colab_link": true
    },
    "kernelspec": {
      "name": "python3",
      "display_name": "Python 3"
    },
    "language_info": {
      "name": "python"
    }
  },
  "cells": [
    {
      "cell_type": "markdown",
      "metadata": {
        "id": "view-in-github",
        "colab_type": "text"
      },
      "source": [
        "<a href=\"https://colab.research.google.com/github/Amarsinh0/Strings/blob/main/reverse%20words%20.ipynb\" target=\"_parent\"><img src=\"https://colab.research.google.com/assets/colab-badge.svg\" alt=\"Open In Colab\"/></a>"
      ]
    },
    {
      "cell_type": "code",
      "execution_count": 2,
      "metadata": {
        "colab": {
          "base_uri": "https://localhost:8080/"
        },
        "id": "uFv6TEhtFMQt",
        "outputId": "88540baa-14f2-4401-c245-c00110578fbb"
      },
      "outputs": [
        {
          "output_type": "stream",
          "name": "stdout",
          "text": [
            "enter the string : data science is best\n",
            "best is science data\n"
          ]
        }
      ],
      "source": [
        "# program to reverse order of word\n",
        "s=input(\"enter the string : \")\n",
        "\n",
        "a=s.split()\n",
        "b=[]\n",
        "i=len(a)-1\n",
        "while i>=0:\n",
        "    b.append(a[i])\n",
        "    i=i-1\n",
        "z=' '.join(b)\n",
        "print(z)\n"
      ]
    }
  ]
}