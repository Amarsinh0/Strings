{
  "nbformat": 4,
  "nbformat_minor": 0,
  "metadata": {
    "colab": {
      "provenance": [],
      "authorship_tag": "ABX9TyNZzV+/h+9sN6g64si6DhDe",
      "include_colab_link": true
    },
    "kernelspec": {
      "name": "python3",
      "display_name": "Python 3"
    },
    "language_info": {
      "name": "python"
    }
  },
  "cells": [
    {
      "cell_type": "markdown",
      "metadata": {
        "id": "view-in-github",
        "colab_type": "text"
      },
      "source": [
        "<a href=\"https://colab.research.google.com/github/Amarsinh0/Strings/blob/main/forword%20%26%20backword%20%20string.ipynb\" target=\"_parent\"><img src=\"https://colab.research.google.com/assets/colab-badge.svg\" alt=\"Open In Colab\"/></a>"
      ]
    },
    {
      "cell_type": "code",
      "execution_count": 1,
      "metadata": {
        "colab": {
          "base_uri": "https://localhost:8080/"
        },
        "id": "UsjayJkWLB4a",
        "outputId": "2e4273ee-09f5-4104-bdaa-33da9eab8a21"
      },
      "outputs": [
        {
          "output_type": "stream",
          "name": "stdout",
          "text": [
            "Enter the string:   i love data science\n",
            "forworddirection: \n",
            " i love data science\n",
            "\n",
            "backworddirection : \n",
            "ecneics atad evol i "
          ]
        }
      ],
      "source": [
        "#write a programto access each character of string forword and backword:\n",
        "str1= input(\"Enter the string:  \")\n",
        "n=len(str1)\n",
        "i=0\n",
        "print(\"forworddirection: \")\n",
        "while i<n:\n",
        "   print(str1[i],end='')\n",
        "   i=i+1\n",
        "print('\\n')\n",
        "print(\"backworddirection : \")\n",
        "i=-1\n",
        "while i>=-n:\n",
        "  print(str1[i],end='')\n",
        "  i=i-1\n",
        "\n"
      ]
    }
  ]
}