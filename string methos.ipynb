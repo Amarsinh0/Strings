{
  "nbformat": 4,
  "nbformat_minor": 0,
  "metadata": {
    "colab": {
      "provenance": [],
      "authorship_tag": "ABX9TyN0hPA9x7rxBYDzdGNdtKN3",
      "include_colab_link": true
    },
    "kernelspec": {
      "name": "python3",
      "display_name": "Python 3"
    },
    "language_info": {
      "name": "python"
    }
  },
  "cells": [
    {
      "cell_type": "markdown",
      "metadata": {
        "id": "view-in-github",
        "colab_type": "text"
      },
      "source": [
        "<a href=\"https://colab.research.google.com/github/Amarsinh0/Strings/blob/main/untitled4.ipynb\" target=\"_parent\"><img src=\"https://colab.research.google.com/assets/colab-badge.svg\" alt=\"Open In Colab\"/></a>"
      ]
    },
    {
      "cell_type": "code",
      "execution_count": null,
      "metadata": {
        "colab": {
          "base_uri": "https://localhost:8080/"
        },
        "id": "pV6Xz1fELhfN",
        "outputId": "3482c345-745b-4bd8-cc54-0d50d11239fa"
      },
      "outputs": [
        {
          "output_type": "stream",
          "name": "stdout",
          "text": [
            "20\n",
            "Amars\n",
            "Aasn\n",
            " b\n",
            "yob doog si hnisramA\n",
            "False\n",
            "False\n",
            "True\n",
            "3\n",
            "Amarsinh is good boy\n",
            "9\n",
            "amarsinh is good boy\n",
            "AMARSINH IS GOOD BOY\n",
            "Amarsinh are good boy\n"
          ]
        }
      ],
      "source": [
        "# string\n",
        "str='Amarsinh is good boy'\n",
        "# find length of string\n",
        "print(len(str))\n",
        "\n",
        "#sorting of string\n",
        "\n",
        "print(str[0:5])\n",
        "\n",
        "print(str[0:8:2])\n",
        "\n",
        "print(str[-4:-2])\n",
        "\n",
        "print(str[::-1]) # reverse string\n",
        "\n",
        "print(str.isalpha())\n",
        "\n",
        "print(str.isalnum())\n",
        "      \n",
        "print(str.endswith(\"boy\"))\n",
        "\n",
        "print(str.count(\"o\")) # its count how much \"o\"in string\n",
        "\n",
        "print(str.capitalize())# here first letter of string will capital\n",
        "\n",
        "print(str.find(\"is\"))\n",
        "\n",
        "print(str.lower()) # here all string will convert in to lowercase\n",
        "\n",
        "print(str.upper()) # here all string will convert in uppercase\n",
        "\n",
        "print(str.replace(\"is\",\"are\")) #here  originalword will replce by new word\n",
        "\n",
        "\n",
        "\n",
        "\n",
        "\n",
        "\n"
      ]
    }
  ]
}
