{
  "nbformat": 4,
  "nbformat_minor": 0,
  "metadata": {
    "colab": {
      "provenance": [],
      "authorship_tag": "ABX9TyORqPWb1LG9GkADK2XxXAUU",
      "include_colab_link": true
    },
    "kernelspec": {
      "name": "python3",
      "display_name": "Python 3"
    },
    "language_info": {
      "name": "python"
    }
  },
  "cells": [
    {
      "cell_type": "markdown",
      "metadata": {
        "id": "view-in-github",
        "colab_type": "text"
      },
      "source": [
        "<a href=\"https://colab.research.google.com/github/Amarsinh0/Strings/blob/main/reverse%20string.ipynb\" target=\"_parent\"><img src=\"https://colab.research.google.com/assets/colab-badge.svg\" alt=\"Open In Colab\"/></a>"
      ]
    },
    {
      "cell_type": "code",
      "execution_count": 1,
      "metadata": {
        "colab": {
          "base_uri": "https://localhost:8080/"
        },
        "id": "h_TLBAwxh7XP",
        "outputId": "2ed9c3a6-423d-45f8-ab52-58b03c8c5fbb"
      },
      "outputs": [
        {
          "output_type": "stream",
          "name": "stdout",
          "text": [
            "Reverse String is:  ECNEGILLETNI LAICIFITRA\n"
          ]
        }
      ],
      "source": [
        "# reverse string\n",
        "\n",
        "str1= \"ARTIFICIAL INTELLIGENCE\"\n",
        "reverse = str1[::-1]\n",
        "print(\"Reverse String is: \",reverse)"
      ]
    }
  ]
}