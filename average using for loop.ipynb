{
  "nbformat": 4,
  "nbformat_minor": 0,
  "metadata": {
    "colab": {
      "provenance": [],
      "authorship_tag": "ABX9TyNi3A8XAAiSzSMDfWYA6GaU",
      "include_colab_link": true
    },
    "kernelspec": {
      "name": "python3",
      "display_name": "Python 3"
    },
    "language_info": {
      "name": "python"
    }
  },
  "cells": [
    {
      "cell_type": "markdown",
      "metadata": {
        "id": "view-in-github",
        "colab_type": "text"
      },
      "source": [
        "<a href=\"https://colab.research.google.com/github/Amarsinh0/Strings/blob/main/average%20using%20for%20loop.ipynb\" target=\"_parent\"><img src=\"https://colab.research.google.com/assets/colab-badge.svg\" alt=\"Open In Colab\"/></a>"
      ]
    },
    {
      "cell_type": "code",
      "execution_count": 3,
      "metadata": {
        "colab": {
          "base_uri": "https://localhost:8080/"
        },
        "id": "UxAHYQDn8Wh_",
        "outputId": "742e372e-2ef9-4690-a329-cb4991845df8"
      },
      "outputs": [
        {
          "output_type": "stream",
          "name": "stdout",
          "text": [
            "enter the number:10\n",
            "sum of the numbers: 55\n",
            "average of number is:  5.5\n"
          ]
        }
      ],
      "source": [
        "# find avrage using for loop\n",
        "n=int(input( \"enter the number:\"))\n",
        "sum=0\n",
        "for i in range(n+1):\n",
        "    sum=sum+i\n",
        "print(\"sum of the numbers:\",sum)\n",
        "average=sum/n\n",
        "print(\"average of number is: \",average)\n"
      ]
    }
  ]
}