{
  "nbformat": 4,
  "nbformat_minor": 0,
  "metadata": {
    "colab": {
      "provenance": [],
      "authorship_tag": "ABX9TyPysPXqv6psDvT9oidpJKds",
      "include_colab_link": true
    },
    "kernelspec": {
      "name": "python3",
      "display_name": "Python 3"
    },
    "language_info": {
      "name": "python"
    }
  },
  "cells": [
    {
      "cell_type": "markdown",
      "metadata": {
        "id": "view-in-github",
        "colab_type": "text"
      },
      "source": [
        "<a href=\"https://colab.research.google.com/github/Amarsinh0/Strings/blob/main/find%20the%20number%20of%20occurrence.ipynb\" target=\"_parent\"><img src=\"https://colab.research.google.com/assets/colab-badge.svg\" alt=\"Open In Colab\"/></a>"
      ]
    },
    {
      "cell_type": "code",
      "execution_count": 5,
      "metadata": {
        "colab": {
          "base_uri": "https://localhost:8080/"
        },
        "id": "Onp54ciVJU6i",
        "outputId": "35c77320-a87e-4fc9-806a-2bb18a7086d6"
      },
      "outputs": [
        {
          "output_type": "stream",
          "name": "stdout",
          "text": [
            "Enter the string:  aaaccsvdfdredfsv\n",
            "a=3 Times\n",
            "c=2 Times\n",
            "s=2 Times\n",
            "v=2 Times\n",
            "d=3 Times\n",
            "f=2 Times\n",
            "r=1 Times\n",
            "e=1 Times\n"
          ]
        }
      ],
      "source": [
        "# find the number of occurrence of each character present in the given string\n",
        "s=input(\"Enter the string:  \")\n",
        "a={}\n",
        "for i in s:\n",
        "  if i in a.keys():\n",
        "    a[i]=a[i]+1\n",
        "  else:\n",
        "    a[i]=1\n",
        "for x,y in a.items():\n",
        "   print(\"{}={} Times\".format(x,y))\n"
      ]
    }
  ]
}