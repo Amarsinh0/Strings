{
  "nbformat": 4,
  "nbformat_minor": 0,
  "metadata": {
    "colab": {
      "provenance": [],
      "authorship_tag": "ABX9TyPxcHJi+tb3bhNMKlj8pw7j",
      "include_colab_link": true
    },
    "kernelspec": {
      "name": "python3",
      "display_name": "Python 3"
    },
    "language_info": {
      "name": "python"
    }
  },
  "cells": [
    {
      "cell_type": "markdown",
      "metadata": {
        "id": "view-in-github",
        "colab_type": "text"
      },
      "source": [
        "<a href=\"https://colab.research.google.com/github/Amarsinh0/Strings/blob/main/remove%20charater%20from%20string.ipynb\" target=\"_parent\"><img src=\"https://colab.research.google.com/assets/colab-badge.svg\" alt=\"Open In Colab\"/></a>"
      ]
    },
    {
      "cell_type": "code",
      "execution_count": 2,
      "metadata": {
        "colab": {
          "base_uri": "https://localhost:8080/"
        },
        "id": "alcEozl4fYfz",
        "outputId": "939c10f4-b338-4cf7-f568-f3e18828de5c"
      },
      "outputs": [
        {
          "output_type": "stream",
          "name": "stdout",
          "text": [
            "After removing char. with index value 8 new string is = python i very easy language \n"
          ]
        }
      ],
      "source": [
        "# remove any character from string \n",
        "str=\"python is very easy language\"\n",
        "n=8\n",
        "first=str[0:n]\n",
        "second=str[n+1:]\n",
        "new=first+second\n",
        "print(\"After removing char. with index value {} new string is = {} \".format(n,new))\n",
        "\n"
      ]
    }
  ]
}