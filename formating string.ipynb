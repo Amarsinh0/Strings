{
  "nbformat": 4,
  "nbformat_minor": 0,
  "metadata": {
    "colab": {
      "provenance": [],
      "authorship_tag": "ABX9TyNjQOZY4ppqeu8NoAZxUR7U",
      "include_colab_link": true
    },
    "kernelspec": {
      "name": "python3",
      "display_name": "Python 3"
    },
    "language_info": {
      "name": "python"
    }
  },
  "cells": [
    {
      "cell_type": "markdown",
      "metadata": {
        "id": "view-in-github",
        "colab_type": "text"
      },
      "source": [
        "<a href=\"https://colab.research.google.com/github/Amarsinh0/Strings/blob/main/formating%20string.ipynb\" target=\"_parent\"><img src=\"https://colab.research.google.com/assets/colab-badge.svg\" alt=\"Open In Colab\"/></a>"
      ]
    },
    {
      "cell_type": "code",
      "execution_count": 1,
      "metadata": {
        "colab": {
          "base_uri": "https://localhost:8080/"
        },
        "id": "Jkb18KnYf_nd",
        "outputId": "d7a11b34-6cbf-43f7-a71b-a7114a9011d9"
      },
      "outputs": [
        {
          "output_type": "stream",
          "name": "stdout",
          "text": [
            "Abhaysinhs salary is 50000 and his age is  24  \n",
            "Abhaysinhs salary is 50000 and his age is  24  \n",
            "50000s salary is 24 and his age is  Abhaysinh  \n"
          ]
        }
      ],
      "source": [
        "#formating string\n",
        "\n",
        "name=\"Abhaysinh\"\n",
        "salary=50000\n",
        "age=24\n",
        "\n",
        "print(\"{}s salary is {} and his age is  {}  \".format(name,salary,age))\n",
        "print(\"{0}s salary is {1} and his age is  {2}  \".format(name,salary,age))\n",
        "print(\"{1}s salary is {2} and his age is  {0}  \".format(name,salary,age))"
      ]
    }
  ]
}