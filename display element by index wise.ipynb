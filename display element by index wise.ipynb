{
  "nbformat": 4,
  "nbformat_minor": 0,
  "metadata": {
    "colab": {
      "provenance": [],
      "authorship_tag": "ABX9TyMIv3y19X9uly/KSnEfG8dt",
      "include_colab_link": true
    },
    "kernelspec": {
      "name": "python3",
      "display_name": "Python 3"
    },
    "language_info": {
      "name": "python"
    }
  },
  "cells": [
    {
      "cell_type": "markdown",
      "metadata": {
        "id": "view-in-github",
        "colab_type": "text"
      },
      "source": [
        "<a href=\"https://colab.research.google.com/github/Amarsinh0/Strings/blob/main/display%20element%20by%20index%20wise.ipynb\" target=\"_parent\"><img src=\"https://colab.research.google.com/assets/colab-badge.svg\" alt=\"Open In Colab\"/></a>"
      ]
    },
    {
      "cell_type": "code",
      "execution_count": 7,
      "metadata": {
        "colab": {
          "base_uri": "https://localhost:8080/"
        },
        "id": "RuAxlbUlmQL6",
        "outputId": "d3b98ea1-9979-4aa3-bfe3-659415c9d825"
      },
      "outputs": [
        {
          "output_type": "stream",
          "name": "stdout",
          "text": [
            "l is avilable at positive index: 0 and at negetive index: -4\n",
            "o is avilable at positive index: 1 and at negetive index: -3\n",
            "v is avilable at positive index: 2 and at negetive index: -2\n",
            "e is avilable at positive index: 3 and at negetive index: -1\n"
          ]
        }
      ],
      "source": [
        "# to display elements by indexwise\n",
        "l=[\"l\",\"o\",\"v\",\"e\"]\n",
        "a=len(l)\n",
        "for i in range (a):\n",
        "  print(l[i],\"is avilable at positive index:\",i, \"and at negetive index:\",i-a)\n",
        "\n"
      ]
    }
  ]
}