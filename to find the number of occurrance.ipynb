{
  "nbformat": 4,
  "nbformat_minor": 0,
  "metadata": {
    "colab": {
      "provenance": [],
      "authorship_tag": "ABX9TyPuhu4mCwb+e1D87NIv2r12",
      "include_colab_link": true
    },
    "kernelspec": {
      "name": "python3",
      "display_name": "Python 3"
    },
    "language_info": {
      "name": "python"
    }
  },
  "cells": [
    {
      "cell_type": "markdown",
      "metadata": {
        "id": "view-in-github",
        "colab_type": "text"
      },
      "source": [
        "<a href=\"https://colab.research.google.com/github/Amarsinh0/Strings/blob/main/to%20find%20the%20number%20of%20occurrance.ipynb\" target=\"_parent\"><img src=\"https://colab.research.google.com/assets/colab-badge.svg\" alt=\"Open In Colab\"/></a>"
      ]
    },
    {
      "cell_type": "code",
      "execution_count": 1,
      "metadata": {
        "colab": {
          "base_uri": "https://localhost:8080/"
        },
        "id": "3aikv-VDwL4F",
        "outputId": "335c68aa-4b95-45d6-c9ff-440a5acbd9d1"
      },
      "outputs": [
        {
          "output_type": "stream",
          "name": "stdout",
          "text": [
            "Enter the string:adssederfeswdaeswderddeess\n",
            "a=2 Times d=6 Times s=6 Times e=7 Times r=2 Times f=1 Times w=2 Times "
          ]
        }
      ],
      "source": [
        "#write a program to find the number of occurrance  of each character present in user defind string:\n",
        "\n",
        "s=input(\"Enter the string:\")\n",
        "d={}\n",
        "for x in s:\n",
        "    if x in d.keys():\n",
        "        d[x]=d[x]+1\n",
        "    else:\n",
        "        d[x]=1\n",
        "for key,value in d.items():\n",
        "    print(\"{}={} Times\".format(key,value),end=' ')\n",
        "\n",
        "\n"
      ]
    }
  ]
}