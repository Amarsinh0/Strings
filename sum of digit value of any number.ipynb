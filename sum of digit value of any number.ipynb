{
  "nbformat": 4,
  "nbformat_minor": 0,
  "metadata": {
    "colab": {
      "provenance": [],
      "authorship_tag": "ABX9TyPuPv39mxP3P60ERqCEsKY9",
      "include_colab_link": true
    },
    "kernelspec": {
      "name": "python3",
      "display_name": "Python 3"
    },
    "language_info": {
      "name": "python"
    }
  },
  "cells": [
    {
      "cell_type": "markdown",
      "metadata": {
        "id": "view-in-github",
        "colab_type": "text"
      },
      "source": [
        "<a href=\"https://colab.research.google.com/github/Amarsinh0/Strings/blob/main/sum%20of%20digit%20value%20of%20any%20number.ipynb\" target=\"_parent\"><img src=\"https://colab.research.google.com/assets/colab-badge.svg\" alt=\"Open In Colab\"/></a>"
      ]
    },
    {
      "cell_type": "code",
      "execution_count": 1,
      "metadata": {
        "colab": {
          "base_uri": "https://localhost:8080/"
        },
        "id": "0MC7DxXlK7WD",
        "outputId": "03f6a22d-8453-4671-8e15-0f8282e5f4f2"
      },
      "outputs": [
        {
          "output_type": "stream",
          "name": "stdout",
          "text": [
            "Enter the number : 2089\n",
            "sum of place value of digit is:  19\n"
          ]
        }
      ],
      "source": [
        "# sum of place value digit of any number\n",
        "#for example : number=2022... sum=2+0+2+2=6\n",
        "n=(input(\"Enter the number : \"))\n",
        "l=[]\n",
        "sum=0\n",
        "for i in n:\n",
        "    l.append(i)\n",
        "for j in l:\n",
        "    sum=sum+int(j)\n",
        "print(\"sum of place value of digit is: \",sum)\n"
      ]
    },
    {
      "cell_type": "code",
      "source": [],
      "metadata": {
        "id": "a1_dw-uxLU4K"
      },
      "execution_count": null,
      "outputs": []
    }
  ]
}