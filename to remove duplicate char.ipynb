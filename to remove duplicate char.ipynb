{
  "nbformat": 4,
  "nbformat_minor": 0,
  "metadata": {
    "colab": {
      "provenance": [],
      "authorship_tag": "ABX9TyPwi9tnCsTUrYJEASosjzR/",
      "include_colab_link": true
    },
    "kernelspec": {
      "name": "python3",
      "display_name": "Python 3"
    },
    "language_info": {
      "name": "python"
    }
  },
  "cells": [
    {
      "cell_type": "markdown",
      "metadata": {
        "id": "view-in-github",
        "colab_type": "text"
      },
      "source": [
        "<a href=\"https://colab.research.google.com/github/Amarsinh0/Strings/blob/main/to%20remove%20duplicate%20char.ipynb\" target=\"_parent\"><img src=\"https://colab.research.google.com/assets/colab-badge.svg\" alt=\"Open In Colab\"/></a>"
      ]
    },
    {
      "cell_type": "code",
      "execution_count": 2,
      "metadata": {
        "colab": {
          "base_uri": "https://localhost:8080/"
        },
        "id": "lIXETv5SGcFs",
        "outputId": "48d2e8b2-c0f0-4339-99aa-2e06309d4332"
      },
      "outputs": [
        {
          "output_type": "stream",
          "name": "stdout",
          "text": [
            "Enter the string: aannutceceutytytnnmmoo\n",
            "anutceymo\n"
          ]
        }
      ],
      "source": [
        "s=input(\"Enter the string: \")\n",
        "lst=[]\n",
        "for i in s:\n",
        "  if i not in lst:\n",
        "    lst.append(i)\n",
        "z=''.join(lst)\n",
        "print(z)\n",
        "   \n"
      ]
    }
  ]
}